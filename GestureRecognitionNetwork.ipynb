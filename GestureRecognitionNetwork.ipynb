{
  "cells": [
    {
      "cell_type": "markdown",
      "metadata": {
        "id": "view-in-github",
        "colab_type": "text"
      },
      "source": [
        "<a href=\"https://colab.research.google.com/github/ciresimo/Leap-Camera-for-drone-control/blob/main/GestureRecognitionNetwork.ipynb\" target=\"_parent\"><img src=\"https://colab.research.google.com/assets/colab-badge.svg\" alt=\"Open In Colab\"/></a>"
      ]
    },
    {
      "cell_type": "code",
      "execution_count": null,
      "metadata": {
        "id": "bLpVSGqsUhTZ"
      },
      "outputs": [],
      "source": [
        "MODEL_STATE_PATH = \"/content/drive/MyDrive/UniTrento/Unmanned/data\"\n",
        "DATA_PATH = \"/content/data\"\n",
        "\n",
        "NB_FEATURES = 17\n",
        "\n",
        "gestures = ['ECL', 'ECR', 'P1L','P1R', 'P2L', 'P2R', 'R1L', 'R2L', 'Y1R', 'Y2R']\n",
        "nb_gestures = len(gestures)"
      ]
    },
    {
      "cell_type": "code",
      "execution_count": null,
      "metadata": {
        "id": "m3IRFeKM7kYd"
      },
      "outputs": [],
      "source": [
        "import shutil\n",
        "\n",
        "# Remove all files and subdirectories in the /content folder\n",
        "shutil.rmtree('/content', ignore_errors=True)\n"
      ]
    },
    {
      "cell_type": "code",
      "execution_count": null,
      "metadata": {
        "colab": {
          "background_save": true
        },
        "id": "wB9a3KcWUhTf"
      },
      "outputs": [],
      "source": [
        "from google.colab import drive\n",
        "# drive.mount('/content/drive')\n",
        "if not os.path.exists('/content/drive):\n",
        "        os.makedirs('/content/drive')\n",
        "drive.mount('/content/drive', force_remount=True)"
      ]
    },
    {
      "cell_type": "code",
      "execution_count": null,
      "metadata": {
        "id": "bmtmS5yx92Z5"
      },
      "outputs": [],
      "source": [
        "from google.colab import drive\n",
        "drive.mount('/content/drive')"
      ]
    },
    {
      "cell_type": "code",
      "execution_count": null,
      "metadata": {
        "id": "VEMX98XbfvVK"
      },
      "outputs": [],
      "source": [
        "from google.colab import files\n",
        "import os\n",
        "\n",
        "if not os.path.exists(DATA_PATH):\n",
        "        os.makedirs(DATA_PATH)\n",
        "\n",
        "# if os.path.exists(DATA_PATH + \".zip\") is False:\n",
        "if not os.path.exists(os.path.join(DATA_PATH, \"data.zip\")):\n",
        "  uploaded = files.upload()\n",
        "  !mv data.zip {DATA_PATH} # Move the zip file to DATA_PATH\n",
        "  !unzip {DATA_PATH}/data.zip -d {DATA_PATH}\n"
      ]
    },
    {
      "cell_type": "code",
      "execution_count": null,
      "metadata": {
        "id": "HmPfERNYUhTl"
      },
      "outputs": [],
      "source": [
        "from pyparsing import Any\n",
        "import torch.utils.data as data\n",
        "import os\n",
        "import csv\n",
        "\n",
        "class GestureDataset(data.Dataset):\n",
        "    def __init__(self) -> None:\n",
        "        self.ids = list()\n",
        "\n",
        "        for gesture in gestures:\n",
        "            for root, subdirs, _ in os.walk(DATA_PATH + f\"/{gesture}\"):\n",
        "              for subject in subdirs:\n",
        "                  for _, _, files in os.walk(root + f\"/{subject}\"):\n",
        "                      for file in files:\n",
        "                          file_path = f\"{root}/{subject}/{file}\"\n",
        "                          self.ids.append(file_path)\n",
        "\n",
        "    def __getitem__(self, index) -> Any:\n",
        "        with open(self.ids[index], mode='r') as csv_file:\n",
        "            csv_reader = csv.DictReader(csv_file)\n",
        "            line_count = 0\n",
        "            input_tensor = torch.zeros(size=(100, NB_FEATURES), dtype=torch.float)\n",
        "            for row in csv_reader:\n",
        "                if line_count >= 0:\n",
        "                  if len(row.values()) == 15:\n",
        "                    fix = [x for x in row.values()] + [0.0, 0.0]\n",
        "                    #print(fix)\n",
        "                    input_tensor[line_count] = torch.tensor([float(x) for x in fix], dtype=torch.float)\n",
        "                  elif len(row.values()) == 16:\n",
        "                    fix = [x for x in row.values()] + [0.0]\n",
        "                    #print(fix)\n",
        "                    input_tensor[line_count] = torch.tensor([float(x) for x in fix], dtype=torch.float)\n",
        "                  else:\n",
        "                    input_tensor[line_count] = torch.tensor([float(x) for x in row.values()], dtype=torch.float)\n",
        "                line_count += 1\n",
        "\n",
        "            target_gesture = self.ids[index].split('/')[3]\n",
        "            target_gesture = gestures.index(target_gesture)\n",
        "            target = torch.zeros([nb_gestures], dtype=torch.float)\n",
        "            target[target_gesture] = 1.0\n",
        "\n",
        "            return (input_tensor.swapaxes(0, 1), target)\n",
        "\n",
        "    def __len__(self):\n",
        "        return len(self.ids)"
      ]
    },
    {
      "cell_type": "code",
      "execution_count": null,
      "metadata": {
        "id": "RW5ckqFCUhTh"
      },
      "outputs": [],
      "source": [
        "import torch\n",
        "\n",
        "class GestureNet(torch.nn.Module):\n",
        "  def __init__(self, *args, **kwargs) -> None:\n",
        "     super().__init__(*args, **kwargs)\n",
        "\n",
        "     self.sequence = torch.nn.Sequential(\n",
        "         torch.nn.BatchNorm1d(NB_FEATURES * 100),\n",
        "         torch.nn.Linear(NB_FEATURES * 100, 300),\n",
        "         torch.nn.ELU(),\n",
        "         torch.nn.BatchNorm1d(300),\n",
        "         torch.nn.Linear(300, 200),\n",
        "         torch.nn.ELU(),\n",
        "         torch.nn.BatchNorm1d(200),\n",
        "         torch.nn.Linear(200, 120),\n",
        "         torch.nn.ELU(),\n",
        "         torch.nn.BatchNorm1d(120),\n",
        "         torch.nn.Linear(120, 60),\n",
        "         torch.nn.ELU(),\n",
        "         torch.nn.BatchNorm1d(60),\n",
        "         torch.nn.Linear(60, 30),\n",
        "         torch.nn.ELU(),\n",
        "         torch.nn.BatchNorm1d(30),\n",
        "         torch.nn.Linear(30, 10),\n",
        "         torch.nn.Softmax(),\n",
        "     )\n",
        "\n",
        "  def forward(self, x):\n",
        "    x = torch.flatten(x, 1)\n",
        "\n",
        "    return self.sequence(x)\n",
        "\n",
        "class OldGestureNet(torch.nn.Module):\n",
        "    def __init__(self, *args, **kwargs) -> None:\n",
        "        super().__init__(*args, **kwargs)\n",
        "\n",
        "        self.sequence = torch.nn.Sequential(\n",
        "          torch.nn.Conv1d(NB_FEATURES, 6 * NB_FEATURES, 6, 1, padding=2),\n",
        "          torch.nn.MaxPool2d(2),\n",
        "\n",
        "          torch.nn.Conv1d(6 * NB_FEATURES // 2, 6 * NB_FEATURES * 5, 12, 2),\n",
        "          torch.nn.MaxPool2d(2),\n",
        "\n",
        "          torch.nn.Conv1d(6 * NB_FEATURES * 5 // 2, 6 * NB_FEATURES * 5 // 2 * 4, 9, 2),\n",
        "          torch.nn.MaxPool2d((2, 1)),\n",
        "\n",
        "          torch.nn.Linear(6 * NB_FEATURES * 5 // 2 * 4 // 2, 200),\n",
        "          torch.nn.ELU(),\n",
        "          torch.nn.Linear(200, 10),\n",
        "          torch.nn.Softmax()\n",
        "        )\n",
        "\n",
        "    def forward(self, x):\n",
        "        return self.sequence(x)\n"
      ]
    },
    {
      "cell_type": "code",
      "execution_count": null,
      "metadata": {
        "id": "q3w7PvYChZG6"
      },
      "outputs": [],
      "source": [
        "from torch.utils.data import Subset\n",
        "\n",
        "def get_data(batch_size=32, transform=None, test_batch_size=256):\n",
        "  full_data = GestureDataset()\n",
        "\n",
        "  data_size = len(full_data)\n",
        "\n",
        "  train_size = int(0.6 * data_size)\n",
        "  val_size = int(0.2 * data_size)\n",
        "  test_size = data_size - train_size - val_size\n",
        "\n",
        "  training_data, validation_data, test_data = torch.utils.data.random_split(full_data, [train_size, val_size, test_size])\n",
        "\n",
        "  # shuffle true only for training as it helps it but is useless for validation and testing\n",
        "  train_loader = torch.utils.data.DataLoader(training_data, batch_size, shuffle=True)\n",
        "  val_loader = torch.utils.data.DataLoader(validation_data, test_batch_size, shuffle=False)\n",
        "  test_loader = torch.utils.data.DataLoader(test_data, test_batch_size, shuffle=False)\n",
        "\n",
        "  return train_loader, val_loader, test_loader"
      ]
    },
    {
      "cell_type": "code",
      "execution_count": null,
      "metadata": {
        "id": "abDC75mhkO57"
      },
      "outputs": [],
      "source": [
        "import torchvision\n",
        "\n",
        "def training_step(net, data_loader, optimizer, cost_function, device='cuda'):\n",
        "  # set the network to training mode\n",
        "  net.train()\n",
        "  total_batches = len(data_loader)\n",
        "  train_accuracy = 0\n",
        "  train_loss = 0\n",
        "  for batch_idx, (inputs, targets) in enumerate(data_loader):\n",
        "    predicted = net(inputs)\n",
        "    pred = torch.argmax(predicted, dim=1)\n",
        "    loss = cost_function(predicted, targets)\n",
        "\n",
        "    tgts = torch.argmax(targets, dim=1)\n",
        "    num_correct = torch.sum(torch.eq(pred, tgts)).item()\n",
        "\n",
        "    batch_accuracy = num_correct / inputs.shape[0] * 100\n",
        "\n",
        "    loss.backward()\n",
        "\n",
        "    optimizer.step()\n",
        "\n",
        "    optimizer.zero_grad()\n",
        "\n",
        "    train_loss += loss.item()\n",
        "\n",
        "#    print(f\"\\rbatch {batch_idx+1} / {total_batches} train accuracy: {batch_accuracy}% and loss {loss}\", end=\"\")\n",
        "    # add up the batch accuracy to the total\n",
        "    train_accuracy += batch_accuracy\n",
        "\n",
        "    if not torch.isfinite(loss).all():\n",
        "      print(\"Loss is {}, stopping training\".format(loss))\n",
        "      return False, None, None\n",
        "  # divide the total accuracy by the batches number to get the mIOU accuracy\n",
        "  train_accuracy /= total_batches\n",
        "  train_loss /= total_batches\n",
        "\n",
        "  return True, train_accuracy, train_loss"
      ]
    },
    {
      "cell_type": "code",
      "execution_count": null,
      "metadata": {
        "id": "VwJK1BfLo_D5"
      },
      "outputs": [],
      "source": [
        "def test_step(net, data_loader, cost_function, device='cuda'):\n",
        "  # set the network to training mode\n",
        "  net.eval()\n",
        "\n",
        "  with torch.no_grad():\n",
        "    test_accuracy = 0\n",
        "\n",
        "    test_loss = 0\n",
        "    total_batches = len(data_loader)\n",
        "    for batch_idx, (inputs, targets) in enumerate(data_loader):\n",
        "      #print(f\"\\rtest batch: {batch_idx + 1} / {total_batches}\", end=\"\")\n",
        "      predicted = net(inputs)\n",
        "\n",
        "      pred = torch.argmax(predicted, 1)\n",
        "      tgts = torch.argmax(targets, 1)\n",
        "      batch_accuracy = torch.sum(torch.eq(pred, tgts)) / inputs.shape[0] * 100\n",
        "\n",
        "      loss = cost_function(predicted, targets)\n",
        "      test_loss += loss.item()\n",
        "\n",
        "      test_accuracy += batch_accuracy\n",
        "\n",
        "    # return the mean accuracy for the whole data\n",
        "    test_accuracy /= total_batches\n",
        "\n",
        "    test_loss /= total_batches\n",
        "\n",
        "    return test_accuracy, test_loss\n"
      ]
    },
    {
      "cell_type": "code",
      "execution_count": null,
      "metadata": {
        "id": "aDa7S8LJpxBo"
      },
      "outputs": [],
      "source": [
        "import matplotlib.pyplot as plt\n",
        "\n",
        "def plot_datas(title, data : list, x_label, y_label):\n",
        "    plt.figure(figsize=(10,5))\n",
        "    plt.title(title)\n",
        "    for d in data:\n",
        "        plt.plot(d[0], label=d[1])\n",
        "    plt.xlabel(x_label)\n",
        "    plt.ylabel(y_label)\n",
        "    plt.legend()\n",
        "    plt.show()"
      ]
    },
    {
      "cell_type": "code",
      "execution_count": null,
      "metadata": {
        "id": "6OfNTor1pzwR"
      },
      "outputs": [],
      "source": [
        "def main(\n",
        "      load_and_skip_training=False,\n",
        "      device='cuda:0',\n",
        "      epochs=50,\n",
        "      hyperparameters={}\n",
        "    ):\n",
        "\n",
        "  model = GestureNet().to(device).float()\n",
        "\n",
        "  if load_and_skip_training:\n",
        "    try:\n",
        "      model.load_state_dict(torch.load(MODEL_STATE_PATH))\n",
        "      print(f\"model loaded from {MODEL_STATE_PATH}\")\n",
        "    except:\n",
        "      print(\"model save not found, starting from scratch\")\n",
        "    return model, 0, 0\n",
        "\n",
        "  optimizer = torch.optim.AdamW(model.parameters(), lr=hyperparameters.get('learning_rate'), weight_decay=hyperparameters.get('weight_decay'))\n",
        "\n",
        "  criterion = torch.nn.CrossEntropyLoss()\n",
        "\n",
        "  train_loader, val_loader, test_loader = get_data(hyperparameters.get('batch_size'))\n",
        "\n",
        "  train_accs = []\n",
        "  train_losses = []\n",
        "\n",
        "  val_accs = []\n",
        "  val_losses = []\n",
        "\n",
        "  max_val_acc_epoch = 0\n",
        "  max_val_acc = 0\n",
        "\n",
        "  for e in range(0, epochs):\n",
        "    print(f\"\\rEpoch: {e+1} / {epochs}\", end=\"\")\n",
        "\n",
        "    ok, train_acc, train_loss = training_step(model, train_loader, optimizer, criterion, device)\n",
        "    if not ok:\n",
        "      print(\"\")\n",
        "      print(f\"Training stopped at epoch {e+1} / {epochs}\")\n",
        "      break\n",
        "\n",
        "    #print(\"\\rValidating the model on the VALIDATION set...\", end=\"\")\n",
        "    val_acc, val_loss = test_step(model, val_loader, criterion, device)\n",
        "\n",
        "    if val_acc > max_val_acc:\n",
        "      max_val_acc = val_acc\n",
        "      max_val_acc_epoch = e+1\n",
        "      torch.save(model.state_dict(), MODEL_STATE_PATH + f\"_epoch_{max_val_acc_epoch}\")\n",
        "\n",
        "    train_accs.append(train_acc)\n",
        "    train_losses.append(train_loss)\n",
        "\n",
        "    val_accs.append(val_acc)\n",
        "    val_losses.append(val_loss)\n",
        "\n",
        "  plot_datas('Accuracy over epochs', [(train_accs, \"train\"), (val_accs, \"validation\")], 'Epoch', 'Accuracy in %')\n",
        "  plot_datas('Loss over epochs', [(train_losses, \"train\"), (val_losses, \"validation\")], 'Epoch', 'Loss')\n",
        "\n",
        "  model.load_state_dict(torch.load(MODEL_STATE_PATH + f\"_epoch_{max_val_acc_epoch}\"))\n",
        "  test_acc, test_loss = test_step(model, test_loader, criterion, device)\n",
        "\n",
        "  print(f\"Test set accuracy: {test_acc}%.\\nTest set loss: {test_loss}\")\n",
        "\n",
        "  return model, max_val_acc, max_val_acc_epoch"
      ]
    },
    {
      "cell_type": "code",
      "execution_count": null,
      "metadata": {
        "id": "NtOSTDiyr8Jg"
      },
      "outputs": [],
      "source": [
        "optimized_hyperparameters = {\n",
        "    'learning_rate': 0.001,\n",
        "    'weight_decay': 0.001,\n",
        "    'batch_size': 32,\n",
        "}"
      ]
    },
    {
      "cell_type": "code",
      "execution_count": null,
      "metadata": {
        "id": "uhrxbY8CrnW4"
      },
      "outputs": [],
      "source": [
        "device = \"cuda\" if torch.cuda.is_available() else \"cpu\"\n",
        "# modify this variable, do not delete it\n",
        "load_and_skip_training=False\n",
        "\n",
        "model, max_val_acc, max_val_acc_epoch = main(load_and_skip_training=load_and_skip_training, device=device, epochs=100, hyperparameters=optimized_hyperparameters)\n",
        "\n",
        "print(f\"max validation accuracy is {max_val_acc}% at epoch {max_val_acc_epoch}\")"
      ]
    },
    {
      "cell_type": "code",
      "execution_count": null,
      "metadata": {
        "id": "wDIccyJPUhTn"
      },
      "outputs": [],
      "source": [
        "dataset = GestureDataset()\n",
        "print(len(dataset))\n",
        "(tensor, gesture) = dataset.__getitem__(100)\n",
        "batch_tensor = torch.zeros(size=(2,17,100))\n",
        "batch_tensor[0] = tensor\n",
        "net = GestureNet()\n",
        "out = net(batch_tensor)\n",
        "print(out.shape)"
      ]
    },
    {
      "cell_type": "code",
      "execution_count": null,
      "metadata": {
        "id": "6HggGiouUhTp"
      },
      "outputs": [],
      "source": [
        "# pool of size=3, stride=2\n",
        "m = torch.nn.MaxPool1d(2)\n",
        "input = torch.randn(2, 102, 95)\n",
        "output = m(input)\n",
        "print(output.shape)"
      ]
    },
    {
      "cell_type": "code",
      "execution_count": null,
      "metadata": {
        "id": "wZ9E0JNdsnpP"
      },
      "outputs": [],
      "source": [
        "# Example of target with class indices\n",
        "loss = torch.nn.CrossEntropyLoss()\n",
        "input = torch.randn(3, 5, requires_grad=True)\n",
        "target = torch.empty(3, dtype=torch.long).random_(5)\n",
        "output = loss(input, target)\n",
        "output.backward()\n",
        "# Example of target with class probabilities\n",
        "input = torch.randn(3, 5, requires_grad=True)\n",
        "target = torch.randn(3, 5).softmax(dim=1)\n",
        "output = loss(input, target)\n",
        "output.backward()\n",
        "print(input)\n",
        "print(target)\n",
        "print(output)"
      ]
    }
  ],
  "metadata": {
    "colab": {
      "provenance": [],
      "include_colab_link": true
    },
    "kernelspec": {
      "display_name": "Python 3",
      "name": "python3"
    },
    "language_info": {
      "codemirror_mode": {
        "name": "ipython",
        "version": 3
      },
      "file_extension": ".py",
      "mimetype": "text/x-python",
      "name": "python",
      "nbconvert_exporter": "python",
      "pygments_lexer": "ipython3",
      "version": "3.10.5"
    }
  },
  "nbformat": 4,
  "nbformat_minor": 0
}